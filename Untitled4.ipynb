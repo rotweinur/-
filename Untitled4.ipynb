{
  "nbformat": 4,
  "nbformat_minor": 0,
  "metadata": {
    "colab": {
      "provenance": [],
      "authorship_tag": "ABX9TyMW6UoDYzI3wzWGisvj980/",
      "include_colab_link": true
    },
    "kernelspec": {
      "name": "python3",
      "display_name": "Python 3"
    },
    "language_info": {
      "name": "python"
    }
  },
  "cells": [
    {
      "cell_type": "markdown",
      "metadata": {
        "id": "view-in-github",
        "colab_type": "text"
      },
      "source": [
        "<a href=\"https://colab.research.google.com/github/rotweinur/-/blob/Practise_2/Untitled4.ipynb\" target=\"_parent\"><img src=\"https://colab.research.google.com/assets/colab-badge.svg\" alt=\"Open In Colab\"/></a>"
      ]
    },
    {
      "cell_type": "code",
      "execution_count": null,
      "metadata": {
        "id": "aOc-EtoKPYHt"
      },
      "outputs": [],
      "source": [
        "#Задание 1\n",
        "silver_amount=96\n",
        "golden_amount=silver_amount/16\n",
        "silver_cost=48\n",
        "all_cost=int(input())\n",
        "golden_TR=all_cost-(silver_cost*silver_amount)\n",
        "golden_cost=golden_TR//golden_amount\n",
        "print(golden_cost)"
      ]
    },
    {
      "cell_type": "code",
      "source": [
        "text=input()\n",
        "for i in text.split():\n",
        "    print(i)"
      ],
      "metadata": {
        "colab": {
          "base_uri": "https://localhost:8080/"
        },
        "id": "vJ8vpZAgPmQ6",
        "outputId": "795a6cbe-2180-4130-a68c-58034878c915"
      },
      "execution_count": 8,
      "outputs": [
        {
          "output_type": "stream",
          "name": "stdout",
          "text": [
            "а б\n",
            "а\n",
            "б\n"
          ]
        }
      ]
    },
    {
      "cell_type": "code",
      "source": [
        "chocolate=input()\n",
        "sum=0\n",
        "for i in chocolate.split():\n",
        "  i=int(i)\n",
        "  sum+=(i)\n",
        "print(sum)\n",
        "\n"
      ],
      "metadata": {
        "colab": {
          "base_uri": "https://localhost:8080/"
        },
        "id": "eqDTR6B7qszJ",
        "outputId": "b359e0af-9ded-4acc-84f2-151e1de9bde7"
      },
      "execution_count": 12,
      "outputs": [
        {
          "output_type": "stream",
          "name": "stdout",
          "text": [
            "34 35\n",
            "69\n"
          ]
        }
      ]
    },
    {
      "cell_type": "code",
      "source": [
        "man=1\n",
        "wife=7\n",
        "\n",
        "print(1+7+7*7*7*7+7*7*7+1)"
      ],
      "metadata": {
        "colab": {
          "base_uri": "https://localhost:8080/"
        },
        "id": "UauhzMc6shGS",
        "outputId": "655c635e-a193-49c0-c63c-22d5763c53f6"
      },
      "execution_count": 14,
      "outputs": [
        {
          "output_type": "stream",
          "name": "stdout",
          "text": [
            "2753\n"
          ]
        }
      ]
    },
    {
      "cell_type": "code",
      "source": [
        "total_revenue=float(input())\n",
        "profit=0.19*total_revenue\n",
        "print(round(profit,2))"
      ],
      "metadata": {
        "colab": {
          "base_uri": "https://localhost:8080/"
        },
        "id": "gREq05XDuZtg",
        "outputId": "ba4cafa6-7f3d-4f44-ab11-5f569d2406c8"
      },
      "execution_count": 16,
      "outputs": [
        {
          "output_type": "stream",
          "name": "stdout",
          "text": [
            "278641782.8397273\n",
            "52941938.74\n"
          ]
        }
      ]
    },
    {
      "cell_type": "code",
      "source": [
        "weight=float(input())\n",
        "height=float(input())\n",
        "BMI = round(weight * 703 / (height ** 2), 2)\n",
        "print(BMI)"
      ],
      "metadata": {
        "colab": {
          "base_uri": "https://localhost:8080/"
        },
        "id": "PDBgk2sFvfy4",
        "outputId": "34c5fb69-512a-4dcc-fbf8-d5e64ef557ee"
      },
      "execution_count": 19,
      "outputs": [
        {
          "output_type": "stream",
          "name": "stdout",
          "text": [
            "145\n",
            "45\n",
            "50.34\n"
          ]
        }
      ]
    },
    {
      "cell_type": "code",
      "source": [
        "rain=0.01\n",
        "s=10000\n",
        "print(rain*s)"
      ],
      "metadata": {
        "colab": {
          "base_uri": "https://localhost:8080/"
        },
        "id": "0A6EiL5Bwm7V",
        "outputId": "0bd736ed-426a-469c-99bb-4009a66e3f05"
      },
      "execution_count": 22,
      "outputs": [
        {
          "output_type": "stream",
          "name": "stdout",
          "text": [
            "100.0\n"
          ]
        }
      ]
    },
    {
      "cell_type": "code",
      "source": [
        "sweets=input()\n",
        "lst = sweets.split()\n",
        "N = int(lst[0])\n",
        "M = int(lst[1])\n",
        "print(N//M)\n"
      ],
      "metadata": {
        "colab": {
          "base_uri": "https://localhost:8080/"
        },
        "id": "yRQNJyqjx_P6",
        "outputId": "8ef586ef-e8ef-4131-aebb-1300171198b4"
      },
      "execution_count": 32,
      "outputs": [
        {
          "output_type": "stream",
          "name": "stdout",
          "text": [
            "13 4\n",
            "3\n"
          ]
        }
      ]
    },
    {
      "cell_type": "code",
      "source": [
        "N=int(input())\n",
        "K=int(input())\n",
        "print(N%K)"
      ],
      "metadata": {
        "colab": {
          "base_uri": "https://localhost:8080/"
        },
        "id": "83qFoRBP2oW4",
        "outputId": "57a6850a-45d3-4808-9b9c-2055354e1afe"
      },
      "execution_count": 38,
      "outputs": [
        {
          "output_type": "stream",
          "name": "stdout",
          "text": [
            "27\n",
            "6\n",
            "3\n"
          ]
        }
      ]
    },
    {
      "cell_type": "code",
      "source": [
        "meters=float(input())\n",
        "mile=1609.34\n",
        "print(round((meters/mile),0))"
      ],
      "metadata": {
        "colab": {
          "base_uri": "https://localhost:8080/"
        },
        "id": "hEN_ansN47fP",
        "outputId": "8ac04973-3fd3-4f97-fd07-f1aff050d6c1"
      },
      "execution_count": 40,
      "outputs": [
        {
          "output_type": "stream",
          "name": "stdout",
          "text": [
            "1656\n",
            "1.0\n"
          ]
        }
      ]
    }
  ]
}